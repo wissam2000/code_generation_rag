{
 "cells": [
  {
   "cell_type": "code",
   "execution_count": 1,
   "metadata": {},
   "outputs": [],
   "source": [
    "from langchain.text_splitter import RecursiveCharacterTextSplitter\n",
    "from langchain.vectorstores import Chroma\n",
    "from langchain_openai import OpenAIEmbeddings\n",
    "from langchain.document_loaders import DirectoryLoader\n"
   ]
  },
  {
   "cell_type": "code",
   "execution_count": 2,
   "metadata": {},
   "outputs": [
    {
     "data": {
      "text/plain": [
       "True"
      ]
     },
     "execution_count": 2,
     "metadata": {},
     "output_type": "execute_result"
    }
   ],
   "source": [
    "from dotenv import load_dotenv\n",
    "\n",
    "\n",
    "load_dotenv()"
   ]
  },
  {
   "cell_type": "code",
   "execution_count": 3,
   "metadata": {},
   "outputs": [],
   "source": [
    "embedding = OpenAIEmbeddings()\n"
   ]
  },
  {
   "cell_type": "code",
   "execution_count": null,
   "metadata": {},
   "outputs": [],
   "source": [
    "import os\n",
    "\n",
    "def load_documents(path, glob=\"*.md\"):\n",
    "    # Assuming DirectoryLoader and its load method are defined elsewhere\n",
    "    loader = DirectoryLoader(path, glob=glob)\n",
    "    documents = loader.load()\n",
    "    return documents\n",
    "\n",
    "def load_all_documents(parent_path):\n",
    "    all_documents = []\n",
    "    for root, _, _ in os.walk(parent_path):\n",
    "        print(root)\n",
    "        documents = load_documents(root)  # Load documents from current directory\n",
    "        all_documents.extend(documents)  # Combine documents from all directories\n",
    "    return all_documents\n",
    "\n",
    "\n",
    "parent_path =  \"react.dev-main/src/content/reference\"\n",
    "all_docs = load_all_documents(parent_path)\n",
    "\n"
   ]
  },
  {
   "cell_type": "code",
   "execution_count": null,
   "metadata": {},
   "outputs": [],
   "source": [
    "all_docs"
   ]
  },
  {
   "cell_type": "code",
   "execution_count": 4,
   "metadata": {},
   "outputs": [],
   "source": [
    "from langchain.storage._lc_store import create_kv_docstore\n",
    "from langchain.storage import LocalFileStore\n",
    "from langchain.retrievers import ParentDocumentRetriever\n",
    "\n",
    "\n",
    "fs = LocalFileStore(\"./store\")\n",
    "store = create_kv_docstore(fs)\n",
    "\n",
    "child_splitter = RecursiveCharacterTextSplitter(chunk_size=200, chunk_overlap=50)\n",
    "parent_splitter = RecursiveCharacterTextSplitter(chunk_size=800, chunk_overlap=100)\n",
    "\n",
    "vectorstore = Chroma(\n",
    "    collection_name=\"full_documents\", embedding_function=embedding,\n",
    "    persist_directory=\"./chroma_db\"\n",
    ")\n",
    "retriever = ParentDocumentRetriever(\n",
    "    vectorstore=vectorstore,\n",
    "    docstore=store,\n",
    "    child_splitter=child_splitter,\n",
    "    parent_splitter=parent_splitter,\n",
    ")\n",
    "# retriever.add_documents(docs, ids=None)\n",
    "\n"
   ]
  },
  {
   "cell_type": "code",
   "execution_count": null,
   "metadata": {},
   "outputs": [],
   "source": [
    "def add_documents_in_batches(retriever, documents, batch_size=5):\n",
    "    for i in range(0, len(documents), batch_size):\n",
    "        batch = documents[i:i + batch_size]\n",
    "        # Assuming your retriever's add_documents method can handle a batch of documents directly\n",
    "        retriever.add_documents(batch)\n",
    "\n",
    "# Assuming all_docs is a list of documents you've loaded\n",
    "# and retriever is your retriever instance ready to add documents to it\n",
    "add_documents_in_batches(retriever, all_docs)\n"
   ]
  },
  {
   "cell_type": "code",
   "execution_count": 6,
   "metadata": {},
   "outputs": [
    {
     "data": {
      "text/plain": [
       "[Document(page_content=\"```js\\nimport { useState, useEffect } from 'react';\\n\\nfunction useTime() {\\n  // 1. Keep track of the current date's state. useState receives an initializer function as its\\n  //    initial state. It only runs once when the hook is called, so only the current date at the\\n  //    time the hook is called is set first.\\n  const [time, setTime] = useState(() => new Date());\\n\\nuseEffect(() => {\\n    // 2. Update the current date every second using setInterval.\\n    const id = setInterval(() => {\\n      setTime(new Date()); // ✅ Good: non-idempotent code no longer runs in render\\n    }, 1000);\\n    // 3. Return a cleanup function so we don't leak the setInterval timer.\\n    return () => clearInterval(id);\\n  }, []);\\n\\nreturn time;\\n}\", metadata={'source': 'react.dev-main/src/content/reference/rules/components-and-hooks-must-be-pure.md'}),\n",
       " Document(page_content=\"new Date() is not idempotent as it always returns the current date and changes its result every time it's called. When you render the above component, the time displayed on the screen will stay stuck on the time that the component was rendered. Similarly, functions like Math.random() also aren't idempotent, because they return different results every time they're called, even when the inputs are the same.\\n\\nThis doesn't mean you shouldn't use non-idempotent functions like new Date() at all – you should just avoid using them during render. In this case, we can synchronize the latest date to this component using an Effect:\\n\\n```js\\nimport { useState, useEffect } from 'react';\", metadata={'source': 'react.dev-main/src/content/reference/rules/components-and-hooks-must-be-pure.md'})]"
      ]
     },
     "execution_count": 6,
     "metadata": {},
     "output_type": "execute_result"
    }
   ],
   "source": [
    "retriever.get_relevant_documents(\"How do I use useEffect in react\")"
   ]
  },
  {
   "cell_type": "code",
   "execution_count": 7,
   "metadata": {},
   "outputs": [],
   "source": [
    "import asyncio\n"
   ]
  },
  {
   "cell_type": "code",
   "execution_count": 8,
   "metadata": {},
   "outputs": [],
   "source": [
    "async def fetch_documents_for_queries(retriever, queries):\n",
    "    tasks = [retriever.aget_relevant_documents(query) for query in queries]\n",
    "    results = await asyncio.gather(*tasks)\n",
    "    unique_docs = [doc for result in results for doc in result]\n",
    "    return unique_docs"
   ]
  },
  {
   "cell_type": "code",
   "execution_count": 9,
   "metadata": {},
   "outputs": [],
   "source": [
    "queries =  ['1. Have you reviewed the official React documentation on useEffect to understand its usage and syntax?', '2. Are you familiar with the React Hooks API documentation, specifically the section on useEffect?', '3. Have you looked at any tutorials or guides that provide step-by-step instructions on how to use useEffect in React?', '4. Do you need clarification on any specific examples or use cases provided in the useEffect documentation?', '5. Have you checked the React useEffect API reference documentation for detailed information on its parameters and return values?']"
   ]
  },
  {
   "cell_type": "code",
   "execution_count": 10,
   "metadata": {},
   "outputs": [],
   "source": [
    "docs = await fetch_documents_for_queries(retriever=retriever,queries=queries)"
   ]
  },
  {
   "cell_type": "code",
   "execution_count": 11,
   "metadata": {},
   "outputs": [
    {
     "data": {
      "text/plain": [
       "[Document(page_content=\"title: useEffect\\n\\nuseEffect is a React Hook that lets you synchronize a component with an external system.\\n\\njs\\nuseEffect(setup, dependencies?)\\n\\nReference {/reference/}\\n\\nuseEffect(setup, dependencies?) {/useeffect/}\\n\\nCall useEffect at the top level of your component to declare an Effect:\\n\\n```js\\nimport { useEffect } from 'react';\\nimport { createConnection } from './chat.js';\\n\\nfunction ChatRoom({ roomId }) {\\n  const [serverUrl, setServerUrl] = useState('https://localhost:1234');\\n\\nuseEffect(() => {\\n    const connection = createConnection(serverUrl, roomId);\\n    connection.connect();\\n    return () => {\\n      connection.disconnect();\\n    };\\n  }, [serverUrl, roomId]);\\n  // ...\\n}\\n```\\n\\nSee more examples below.\\n\\nParameters {/parameters/}\", metadata={'source': 'react.dev-main/src/content/reference/react/useEffect.md'}),\n",
       " Document(page_content=\"title: useEffect\\n\\nuseEffect is a React Hook that lets you synchronize a component with an external system.\\n\\njs\\nuseEffect(setup, dependencies?)\\n\\nReference {/reference/}\\n\\nuseEffect(setup, dependencies?) {/useeffect/}\\n\\nCall useEffect at the top level of your component to declare an Effect:\\n\\n```js\\nimport { useEffect } from 'react';\\nimport { createConnection } from './chat.js';\\n\\nfunction ChatRoom({ roomId }) {\\n  const [serverUrl, setServerUrl] = useState('https://localhost:1234');\\n\\nuseEffect(() => {\\n    const connection = createConnection(serverUrl, roomId);\\n    connection.connect();\\n    return () => {\\n      connection.disconnect();\\n    };\\n  }, [serverUrl, roomId]);\\n  // ...\\n}\\n```\\n\\nSee more examples below.\\n\\nParameters {/parameters/}\", metadata={'source': 'react.dev-main/src/content/reference/react/useEffect.md'}),\n",
       " Document(page_content=\"```js\\nimport { useState, useEffect } from 'react';\\n\\nfunction useTime() {\\n  // 1. Keep track of the current date's state. useState receives an initializer function as its\\n  //    initial state. It only runs once when the hook is called, so only the current date at the\\n  //    time the hook is called is set first.\\n  const [time, setTime] = useState(() => new Date());\\n\\nuseEffect(() => {\\n    // 2. Update the current date every second using setInterval.\\n    const id = setInterval(() => {\\n      setTime(new Date()); // ✅ Good: non-idempotent code no longer runs in render\\n    }, 1000);\\n    // 3. Return a cleanup function so we don't leak the setInterval timer.\\n    return () => clearInterval(id);\\n  }, []);\\n\\nreturn time;\\n}\", metadata={'source': 'react.dev-main/src/content/reference/rules/components-and-hooks-must-be-pure.md'}),\n",
       " Document(page_content='title: \"Built-in React Hooks\"\\n\\nHooks let you use different React features from your components. You can either use the built-in Hooks or combine them to build your own. This page lists all built-in Hooks in React.\\n\\nState Hooks {/state-hooks/}\\n\\nState lets a component \"remember\" information like user input. For example, a form component can use state to store the input value, while an image gallery component can use state to store the selected image index.\\n\\nTo add state to a component, use one of these Hooks:\\n\\nuseState declares a state variable that you can update directly.\\n\\nuseReducer declares a state variable with the update logic inside a reducer function.\\n\\njs\\nfunction ImageGallery() {\\n  const [index, setIndex] = useState(0);\\n  // ...\\n\\nContext Hooks {/context-hooks/}', metadata={'source': 'react.dev-main/src/content/reference/react/hooks.md'}),\n",
       " Document(page_content='title: Rules of React\\n\\nJust as different programming languages have their own ways of expressing concepts, React has its own idioms — or rules — for how to express patterns in a way that is easy to understand and yields high-quality applications.\\n\\nTo learn more about expressing UIs with React, we recommend reading Thinking in React.\\n\\nThis section describes the rules you need to follow to write idiomatic React code. Writing idiomatic React code can help you write well organized, safe, and composable applications. These properties make your app more resilient to changes and makes it easier to work with other developers, libraries, and tools.', metadata={'source': 'react.dev-main/src/content/reference/rules/index.md'}),\n",
       " Document(page_content=\"Side effects are typically written inside of event handlers or Effects. But never during render.\\n\\nWhile render must be kept pure, side effects are necessary at some point in order for your app to do anything interesting, like showing something on the screen! The key point of this rule is that side effects should not run in render, as React can render components multiple times. In most cases, you'll use event handlers to handle side effects. Using an event handler explicitly tells React that this code doesn't need to run during render, keeping render pure. If you've exhausted all options – and only as a last resort – you can also handle side effects using useEffect.\\n\\nWhen is it okay to have mutation? {/mutation/}\\n\\nLocal mutation {/local-mutation/}\", metadata={'source': 'react.dev-main/src/content/reference/rules/components-and-hooks-must-be-pure.md'}),\n",
       " Document(page_content='return (\\n\\n);\\n}\\n```\\n\\nWrapping Effects in custom Hooks {/wrapping-effects-in-custom-hooks/}\\n\\nEffects are an \"escape hatch\": you use them when you need to \"step outside React\" and when there is no better built-in solution for your use case. If you find yourself often needing to manually write Effects, it\\'s usually a sign that you need to extract some custom Hooks for common behaviors your components rely on.\\n\\nFor example, this useChatRoom custom Hook \"hides\" the logic of your Effect behind a more declarative API:', metadata={'source': 'react.dev-main/src/content/reference/react/useEffect.md'}),\n",
       " Document(page_content=\"title: useEffect\\n\\nuseEffect is a React Hook that lets you synchronize a component with an external system.\\n\\njs\\nuseEffect(setup, dependencies?)\\n\\nReference {/reference/}\\n\\nuseEffect(setup, dependencies?) {/useeffect/}\\n\\nCall useEffect at the top level of your component to declare an Effect:\\n\\n```js\\nimport { useEffect } from 'react';\\nimport { createConnection } from './chat.js';\\n\\nfunction ChatRoom({ roomId }) {\\n  const [serverUrl, setServerUrl] = useState('https://localhost:1234');\\n\\nuseEffect(() => {\\n    const connection = createConnection(serverUrl, roomId);\\n    connection.connect();\\n    return () => {\\n      connection.disconnect();\\n    };\\n  }, [serverUrl, roomId]);\\n  // ...\\n}\\n```\\n\\nSee more examples below.\\n\\nParameters {/parameters/}\", metadata={'source': 'react.dev-main/src/content/reference/react/useEffect.md'}),\n",
       " Document(page_content=\"new Date() is not idempotent as it always returns the current date and changes its result every time it's called. When you render the above component, the time displayed on the screen will stay stuck on the time that the component was rendered. Similarly, functions like Math.random() also aren't idempotent, because they return different results every time they're called, even when the inputs are the same.\\n\\nThis doesn't mean you shouldn't use non-idempotent functions like new Date() at all – you should just avoid using them during render. In this case, we can synchronize the latest date to this component using an Effect:\\n\\n```js\\nimport { useState, useEffect } from 'react';\", metadata={'source': 'react.dev-main/src/content/reference/rules/components-and-hooks-must-be-pure.md'})]"
      ]
     },
     "execution_count": 11,
     "metadata": {},
     "output_type": "execute_result"
    }
   ],
   "source": [
    "docs"
   ]
  }
 ],
 "metadata": {
  "kernelspec": {
   "display_name": "Python 3",
   "language": "python",
   "name": "python3"
  },
  "language_info": {
   "codemirror_mode": {
    "name": "ipython",
    "version": 3
   },
   "file_extension": ".py",
   "mimetype": "text/x-python",
   "name": "python",
   "nbconvert_exporter": "python",
   "pygments_lexer": "ipython3",
   "version": "3.10.10"
  }
 },
 "nbformat": 4,
 "nbformat_minor": 2
}
